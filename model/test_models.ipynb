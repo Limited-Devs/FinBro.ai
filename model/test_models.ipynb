{
 "cells": [
  {
   "cell_type": "markdown",
   "id": "020c71cf",
   "metadata": {},
   "source": [
    "# Model Testing Script\n",
    "This notebook provides a standalone script to test the trained models (`best_savings_model.keras`, `best_amount_model.keras`, `best_multi_task_model.keras`) using new or synthetic data. It does not depend on the training notebook's variables."
   ]
  },
  {
   "cell_type": "code",
   "execution_count": 1,
   "id": "376bf824",
   "metadata": {},
   "outputs": [],
   "source": [
    "import numpy as np\n",
    "import pandas as pd\n",
    "import tensorflow as tf\n",
    "import json\n",
    "\n",
    "# Load feature info to get feature names and types\n",
    "with open('../model/feature_info.json', 'r') as f:\n",
    "    feature_info = json.load(f)\n",
    "feature_columns = feature_info['numerical_features'] + feature_info['categorical_features']\n",
    "\n",
    "# Load models\n",
    "savings_model = tf.keras.models.load_model('trained_model/best_savings_model.keras', compile=False)\n",
    "amount_model = tf.keras.models.load_model('trained_model/best_amount_model.keras', compile=False)\n",
    "multi_task_model = tf.keras.models.load_model('trained_model/best_multi_task_model.keras', compile=False)"
   ]
  },
  {
   "cell_type": "markdown",
   "id": "98b290c6",
   "metadata": {},
   "source": [
    "## 1. Prepare Test Data\n",
    "You can either load a CSV file with the same features as the training data, or generate synthetic data for testing."
   ]
  },
  {
   "cell_type": "code",
   "execution_count": 2,
   "id": "382478b7",
   "metadata": {},
   "outputs": [
    {
     "name": "stdout",
     "output_type": "stream",
     "text": [
      "Test data shape: (5, 49)\n"
     ]
    }
   ],
   "source": [
    "# Option 1: Load test data from CSV (uncomment and set path if available)\n",
    "# test_data = pd.read_csv('../data/your_test_data.csv')\n",
    "# X_test = test_data[feature_columns].values\n",
    "\n",
    "# Option 2: Generate synthetic test data\n",
    "np.random.seed(42)\n",
    "num_samples = 5\n",
    "X_test = np.random.normal(size=(num_samples, len(feature_columns)))\n",
    "\n",
    "print(\"Test data shape:\", X_test.shape)"
   ]
  },
  {
   "cell_type": "markdown",
   "id": "deebc3d9",
   "metadata": {},
   "source": [
    "## 2. Run Predictions\n",
    "Test all three models on the test data and display the results."
   ]
  },
  {
   "cell_type": "code",
   "execution_count": 3,
   "id": "633c2c4f",
   "metadata": {},
   "outputs": [
    {
     "name": "stderr",
     "output_type": "stream",
     "text": [
      "c:\\Users\\hp\\AppData\\Local\\Programs\\Python\\Python312\\Lib\\site-packages\\keras\\src\\ops\\nn.py:907: UserWarning: You are using a softmax over axis 3 of a tensor of shape (1, 8, 1, 1). This axis has size 1. The softmax operation will always return the value 1, which is likely not what you intended. Did you mean to use a sigmoid instead?\n",
      "  warnings.warn(\n"
     ]
    },
    {
     "name": "stdout",
     "output_type": "stream",
     "text": [
      "\n",
      "Sample 0:\n",
      "  Savings Model: {'can_achieve_savings': True, 'confidence': 0.9999999403953552}\n",
      "  Amount Model: {'recommended_savings': 8206.27734375}\n",
      "  Multi-task Model: {'can_achieve_savings': True, 'savings_confidence': 0.9999998807907104, 'recommended_savings_amount': 9200.412109375, 'financial_risk': False, 'risk_score': 0.1161220446228981}\n",
      "\n",
      "Sample 1:\n",
      "  Savings Model: {'can_achieve_savings': True, 'confidence': 0.9999999403953552}\n",
      "  Amount Model: {'recommended_savings': 2495.83544921875}\n",
      "  Multi-task Model: {'can_achieve_savings': True, 'savings_confidence': 0.9995744824409485, 'recommended_savings_amount': 2349.896484375, 'financial_risk': False, 'risk_score': 0.16990500688552856}\n",
      "\n",
      "Sample 2:\n",
      "  Savings Model: {'can_achieve_savings': True, 'confidence': 0.9999999403953552}\n",
      "  Amount Model: {'recommended_savings': 5440.11328125}\n",
      "  Multi-task Model: {'can_achieve_savings': True, 'savings_confidence': 0.9999997019767761, 'recommended_savings_amount': 8414.6181640625, 'financial_risk': False, 'risk_score': 0.11849623918533325}\n",
      "\n",
      "Sample 3:\n",
      "  Savings Model: {'can_achieve_savings': True, 'confidence': 0.9999999403953552}\n",
      "  Amount Model: {'recommended_savings': 12564.48046875}\n",
      "  Multi-task Model: {'can_achieve_savings': True, 'savings_confidence': 1.0, 'recommended_savings_amount': 14139.947265625, 'financial_risk': False, 'risk_score': 0.20315517485141754}\n",
      "\n",
      "Sample 4:\n",
      "  Savings Model: {'can_achieve_savings': True, 'confidence': 0.9999999403953552}\n",
      "  Amount Model: {'recommended_savings': 21537.478515625}\n",
      "  Multi-task Model: {'can_achieve_savings': True, 'savings_confidence': 1.0, 'recommended_savings_amount': 22445.37109375, 'financial_risk': False, 'risk_score': 0.26677206158638}\n"
     ]
    }
   ],
   "source": [
    "def test_all_models(X):\n",
    "    results = []\n",
    "    for i, features in enumerate(X):\n",
    "        # Savings Achievement Model\n",
    "        pred_savings = savings_model.predict(features.reshape(1, -1), verbose=0)\n",
    "        savings_result = {\n",
    "            'can_achieve_savings': bool(pred_savings[0][0] > 0.5),\n",
    "            'confidence': float(pred_savings[0][0])\n",
    "        }\n",
    "        # Savings Amount Model\n",
    "        pred_amount = amount_model.predict(features.reshape(1, -1), verbose=0)\n",
    "        amount_result = {\n",
    "            'recommended_savings': float(pred_amount[0][0])\n",
    "        }\n",
    "        # Multi-task Model\n",
    "        pred_multi = multi_task_model.predict(features.reshape(1, -1), verbose=0)\n",
    "        multi_result = {\n",
    "            'can_achieve_savings': bool(pred_multi[0][0][0] > 0.5),\n",
    "            'savings_confidence': float(pred_multi[0][0][0]),\n",
    "            'recommended_savings_amount': float(pred_multi[1][0][0]),\n",
    "            'financial_risk': bool(pred_multi[2][0][0] > 0.5),\n",
    "            'risk_score': float(pred_multi[2][0][0])\n",
    "        }\n",
    "        results.append({\n",
    "            'sample': i,\n",
    "            'savings_model': savings_result,\n",
    "            'amount_model': amount_result,\n",
    "            'multi_task_model': multi_result\n",
    "        })\n",
    "    return results\n",
    "\n",
    "results = test_all_models(X_test)\n",
    "for res in results:\n",
    "    print(f\"\\nSample {res['sample']}:\")\n",
    "    print(\"  Savings Model:\", res['savings_model'])\n",
    "    print(\"  Amount Model:\", res['amount_model'])\n",
    "    print(\"  Multi-task Model:\", res['multi_task_model'])"
   ]
  },
  {
   "cell_type": "markdown",
   "id": "39ef33af",
   "metadata": {},
   "source": [
    "## 3. Notes\n",
    "- Ensure the test data has the same feature order and preprocessing as the training data.\n",
    "- For real data, replace the synthetic data section with your actual test set.\n",
    "- This script is independent and does not require any variables from the training notebook."
   ]
  }
 ],
 "metadata": {
  "kernelspec": {
   "display_name": "Python 3",
   "language": "python",
   "name": "python3"
  },
  "language_info": {
   "codemirror_mode": {
    "name": "ipython",
    "version": 3
   },
   "file_extension": ".py",
   "mimetype": "text/x-python",
   "name": "python",
   "nbconvert_exporter": "python",
   "pygments_lexer": "ipython3",
   "version": "3.12.9"
  }
 },
 "nbformat": 4,
 "nbformat_minor": 5
}
